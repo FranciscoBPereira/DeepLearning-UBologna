{
  "nbformat": 4,
  "nbformat_minor": 0,
  "metadata": {
    "colab": {
      "provenance": [],
      "gpuType": "T4"
    },
    "kernelspec": {
      "name": "python3",
      "display_name": "Python 3"
    },
    "language_info": {
      "name": "python"
    },
    "accelerator": "GPU"
  },
  "cells": [
{
      "cell_type": "markdown",
      "metadata": {
        "id": "view-in-github",
        "colab_type": "text"
      },
      "source": [
        "<a href=\"https://colab.research.google.com/github/FranciscoBPereira/DeepLearning-UBologna/blob/main/UBologna24_Ex2.ipynb\" target=\"_parent\"><img src=\"https://colab.research.google.com/assets/colab-badge.svg\" alt=\"Open In Colab\"/></a>"
      ]
    },
    {
      "cell_type": "code",
      "execution_count": null,
      "metadata": {
        "id": "-aofNbODMK2M"
      },
      "outputs": [],
      "source": [
        "# Setup, Version check and Common imports\n",
        "\n",
        "# Python ≥3.8 is required\n",
        "import sys\n",
        "assert sys.version_info >= (3, 8)\n",
        "\n",
        "\n",
        "# TensorFlow ≥2.10 is required\n",
        "import tensorflow as tf\n",
        "assert tf.__version__ >= \"2.10\"\n",
        "\n",
        "# Common imports\n",
        "import numpy as np\n",
        "import os\n",
        "\n",
        "from tensorflow import keras\n",
        "from tensorflow.keras import layers\n",
        "\n",
        "# to make this notebook's output stable across runs\n",
        "np.random.seed(42)\n",
        "\n",
        "import matplotlib.pyplot as plt\n",
        "\n",
        "plt.rc('font', size=14)\n",
        "plt.rc('axes', labelsize=14, titlesize=14)\n",
        "plt.rc('legend', fontsize=14)\n",
        "plt.rc('xtick', labelsize=10)\n",
        "plt.rc('ytick', labelsize=10)"
      ]
    },
    {
      "cell_type": "code",
      "source": [
        "# Load CIFAR10 dataset from keras datasets:\n",
        "# https://keras.io/api/datasets/cifar10/\n",
        "# https://www.cs.toronto.edu/~kriz/cifar.html\n",
        "\n",
        "# This is a dataset of 50,000 32x32 color training images and 10,000 test images, labeled over 10 categories.\n",
        "\n",
        "# The load_data() method creates train and test sets.\n",
        "\n",
        "from keras.datasets import cifar10\n",
        "\n",
        "(train_images_full, train_labels_full), (test_images, test_labels) = cifar10.load_data()\n",
        "\n",
        "train_labels_full = train_labels_full.squeeze()\n",
        "test_labels = test_labels.squeeze()\n",
        "\n",
        "# Standardize inputs to the interval [0, 1]\n",
        "train_images_full = train_images_full / 255.0\n",
        "test_images = test_images / 255.0\n",
        "\n",
        "# We further divide the original train datasets into train and validation datasets\n",
        "train_images = train_images_full[5000:]\n",
        "valid_images = train_images_full[:5000]\n",
        "train_labels = train_labels_full[5000:]\n",
        "valid_labels = train_labels_full[:5000]"
      ],
      "metadata": {
        "id": "UaCLRr_uM1iT"
      },
      "execution_count": null,
      "outputs": []
    },
    {
      "cell_type": "code",
      "source": [
        "# Visualize a few examples\n",
        "# Check here for the identification of the classes: https://www.cs.toronto.edu/~kriz/cifar.html\n",
        "\n",
        "n_rows = 6\n",
        "n_cols = 10\n",
        "\n",
        "plt.figure(figsize=(n_cols * 1.2, n_rows * 1.2))\n",
        "for row in range(n_rows):\n",
        "    for col in range(n_cols):\n",
        "        index = n_cols * row + col\n",
        "        plt.subplot(n_rows, n_cols, index + 1)\n",
        "        plt.imshow(train_images[index])\n",
        "        plt.axis('off')\n",
        "        plt.title(train_labels[index], fontsize=12)\n",
        "plt.subplots_adjust(wspace=0.2, hspace=0.5)\n",
        "plt.show()"
      ],
      "metadata": {
        "id": "Z6IHDca9OXMo"
      },
      "execution_count": null,
      "outputs": []
    },
    {
      "cell_type": "code",
      "source": [
        "# Create a simple CNN with name my_first_CNN\n",
        "# It relies on the Keras Sequential API: https://keras.io/api/models/\n",
        "# When creating a NN, it adds layeys one by one, using the layer class: https://keras.io/api/layers/base_layer/\n",
        "\n",
        "keras.backend.clear_session()\n",
        "tf.random.set_seed(42)\n",
        "np.random.seed(42)\n",
        "\n",
        "my_first_CNN = keras.models.Sequential([\n",
        "    layers.Conv2D(filters=32, kernel_size=3, activation='relu', padding='same', input_shape=[32,32,3]),\n",
        "    layers.MaxPooling2D(),\n",
        "    layers.Conv2D(32, 3, activation='relu',padding='same'),\n",
        "    layers.MaxPooling2D(),\n",
        "    layers.Conv2D(64, 3, activation='relu',padding='same'),\n",
        "    layers.MaxPooling2D(),\n",
        "    layers.Flatten(),\n",
        "    layers.Dense(64, activation='relu'),\n",
        "    layers.Dense(10, activation=\"softmax\")\n",
        "])\n"
      ],
      "metadata": {
        "id": "r_HhmhXUPq0X"
      },
      "execution_count": null,
      "outputs": []
    },
    {
      "cell_type": "code",
      "source": [
        "# Present a summary of the network architecture\n",
        "# Confirm the architecture and the number of parameters\n",
        "\n",
        "my_first_CNN.summary()"
      ],
      "metadata": {
        "id": "3bBxU4cFP4xO"
      },
      "execution_count": null,
      "outputs": []
    },
    {
      "cell_type": "code",
      "source": [
        "# A NN has to be compiled by calling the compile() method: https://keras.io/api/models/model_training_apis/\n",
        "# Three components have to be defined (recall how backpropagation is appplied during training):\n",
        "# 1. the Optimizer to be used in training\n",
        "# 2. The loss function\n",
        "# 3. The evaluation metric\n",
        "\n",
        "my_first_CNN.compile(loss=\"sparse_categorical_crossentropy\",\n",
        "              optimizer=keras.optimizers.SGD(),\n",
        "              metrics=[\"accuracy\"])"
      ],
      "metadata": {
        "id": "UgU59bL4QGsZ"
      },
      "execution_count": null,
      "outputs": []
    },
    {
      "cell_type": "code",
      "source": [
        "# Training is performed by calling the fit() method: https://keras.io/api/models/model_training_apis/\n",
        "\n",
        "# Hyper-parameters: batch size and epochs\n",
        "# Validation datasets can also be provided\n",
        "\n",
        "# It returns a history object.\n",
        "# Its History.history attribute is a record of training loss values and metrics values at successive epochs,\n",
        "# as well as validation loss values and validation metrics values (if applicable).\n",
        "\n",
        "history = my_first_CNN.fit(train_images, train_labels, batch_size=32, epochs=20,\n",
        "                    validation_data=(valid_images, valid_labels))\n"
      ],
      "metadata": {
        "id": "LU4IE-yfQMsF"
      },
      "execution_count": null,
      "outputs": []
    },
    {
      "cell_type": "code",
      "source": [
        "# Plot the evolution of the accuracy metrics\n",
        "\n",
        "import pandas as pd\n",
        "\n",
        "x = pd.DataFrame(history.history, columns = ['accuracy', 'val_accuracy'])\n",
        "x.plot(figsize=(8, 5))\n",
        "plt.grid(True)\n",
        "plt.show()"
      ],
      "metadata": {
        "id": "hqxE-GIHSwqt"
      },
      "execution_count": null,
      "outputs": []
    },
    {
      "cell_type": "code",
      "source": [
        "# Evaluation the generalization ability of the model\n",
        "# The test set will be used in this step\n",
        "# Classification of a set of examples can be performed using the evaluate() method:  https://keras.io/api/models/model_training_apis/\n",
        "\n",
        "test_loss, test_acc = my_first_CNN.evaluate(test_images, test_labels)\n",
        "print('Test Accuracy: ', test_acc)"
      ],
      "metadata": {
        "id": "alJ-O4pxS1u8"
      },
      "execution_count": null,
      "outputs": []
    },
    {
      "cell_type": "code",
      "source": [
        "dot_img_file = '/tmp/model_2.png'\n",
        "tf.keras.utils.plot_model(my_first_CNN, to_file=dot_img_file, show_shapes=True)"
      ],
      "metadata": {
        "id": "eLVkfdPRMCfe"
      },
      "execution_count": null,
      "outputs": []
    }
  ]
}
